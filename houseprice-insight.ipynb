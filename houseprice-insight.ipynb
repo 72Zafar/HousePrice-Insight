{
 "cells": [
  {
   "cell_type": "markdown",
   "id": "a8f67eb4",
   "metadata": {
    "papermill": {
     "duration": 0.010076,
     "end_time": "2024-11-13T10:59:56.050370",
     "exception": false,
     "start_time": "2024-11-13T10:59:56.040294",
     "status": "completed"
    },
    "tags": []
   },
   "source": [
    "# Importing The Dependenices\r\n"
   ]
  },
  {
   "cell_type": "code",
   "execution_count": 1,
   "id": "21441e11",
   "metadata": {
    "execution": {
     "iopub.execute_input": "2024-11-13T10:59:56.071818Z",
     "iopub.status.busy": "2024-11-13T10:59:56.071172Z",
     "iopub.status.idle": "2024-11-13T11:00:00.013600Z",
     "shell.execute_reply": "2024-11-13T11:00:00.012253Z"
    },
    "papermill": {
     "duration": 3.957222,
     "end_time": "2024-11-13T11:00:00.017177",
     "exception": false,
     "start_time": "2024-11-13T10:59:56.059955",
     "status": "completed"
    },
    "tags": []
   },
   "outputs": [],
   "source": [
    "import pandas as pd \n",
    "import numpy as np \n",
    "import matplotlib.pyplot as plt\n",
    "import seaborn as sns\n",
    "from sklearn.impute import SimpleImputer\n",
    "from sklearn.preprocessing import LabelEncoder,MinMaxScaler\n",
    "from sklearn.model_selection import train_test_split\n",
    "import warnings\n",
    "warnings.filterwarnings('ignore')"
   ]
  },
  {
   "cell_type": "markdown",
   "id": "39984170",
   "metadata": {
    "papermill": {
     "duration": 0.01007,
     "end_time": "2024-11-13T11:00:00.037027",
     "exception": false,
     "start_time": "2024-11-13T11:00:00.026957",
     "status": "completed"
    },
    "tags": []
   },
   "source": [
    "# Data Collection & Processing\r\n"
   ]
  },
  {
   "cell_type": "code",
   "execution_count": 2,
   "id": "112ba157",
   "metadata": {
    "execution": {
     "iopub.execute_input": "2024-11-13T11:00:00.057843Z",
     "iopub.status.busy": "2024-11-13T11:00:00.057220Z",
     "iopub.status.idle": "2024-11-13T11:00:00.152309Z",
     "shell.execute_reply": "2024-11-13T11:00:00.150839Z"
    },
    "papermill": {
     "duration": 0.110049,
     "end_time": "2024-11-13T11:00:00.156734",
     "exception": false,
     "start_time": "2024-11-13T11:00:00.046685",
     "status": "completed"
    },
    "tags": []
   },
   "outputs": [],
   "source": [
    "train_df = pd.read_csv(\"/kaggle/input/house-prices-advanced-regression-techniques/train.csv\")\n",
    "test_df = pd.read_csv(\"/kaggle/input/house-prices-advanced-regression-techniques/test.csv\")\n"
   ]
  },
  {
   "cell_type": "code",
   "execution_count": 3,
   "id": "f55baba6",
   "metadata": {
    "execution": {
     "iopub.execute_input": "2024-11-13T11:00:00.180540Z",
     "iopub.status.busy": "2024-11-13T11:00:00.180107Z",
     "iopub.status.idle": "2024-11-13T11:00:00.236448Z",
     "shell.execute_reply": "2024-11-13T11:00:00.235066Z"
    },
    "papermill": {
     "duration": 0.071214,
     "end_time": "2024-11-13T11:00:00.239996",
     "exception": false,
     "start_time": "2024-11-13T11:00:00.168782",
     "status": "completed"
    },
    "tags": []
   },
   "outputs": [
    {
     "data": {
      "text/html": [
       "<div>\n",
       "<style scoped>\n",
       "    .dataframe tbody tr th:only-of-type {\n",
       "        vertical-align: middle;\n",
       "    }\n",
       "\n",
       "    .dataframe tbody tr th {\n",
       "        vertical-align: top;\n",
       "    }\n",
       "\n",
       "    .dataframe thead th {\n",
       "        text-align: right;\n",
       "    }\n",
       "</style>\n",
       "<table border=\"1\" class=\"dataframe\">\n",
       "  <thead>\n",
       "    <tr style=\"text-align: right;\">\n",
       "      <th></th>\n",
       "      <th>Id</th>\n",
       "      <th>MSSubClass</th>\n",
       "      <th>MSZoning</th>\n",
       "      <th>LotFrontage</th>\n",
       "      <th>LotArea</th>\n",
       "      <th>Street</th>\n",
       "      <th>Alley</th>\n",
       "      <th>LotShape</th>\n",
       "      <th>LandContour</th>\n",
       "      <th>Utilities</th>\n",
       "      <th>...</th>\n",
       "      <th>PoolArea</th>\n",
       "      <th>PoolQC</th>\n",
       "      <th>Fence</th>\n",
       "      <th>MiscFeature</th>\n",
       "      <th>MiscVal</th>\n",
       "      <th>MoSold</th>\n",
       "      <th>YrSold</th>\n",
       "      <th>SaleType</th>\n",
       "      <th>SaleCondition</th>\n",
       "      <th>SalePrice</th>\n",
       "    </tr>\n",
       "  </thead>\n",
       "  <tbody>\n",
       "    <tr>\n",
       "      <th>0</th>\n",
       "      <td>1</td>\n",
       "      <td>60</td>\n",
       "      <td>RL</td>\n",
       "      <td>65.0</td>\n",
       "      <td>8450</td>\n",
       "      <td>Pave</td>\n",
       "      <td>NaN</td>\n",
       "      <td>Reg</td>\n",
       "      <td>Lvl</td>\n",
       "      <td>AllPub</td>\n",
       "      <td>...</td>\n",
       "      <td>0</td>\n",
       "      <td>NaN</td>\n",
       "      <td>NaN</td>\n",
       "      <td>NaN</td>\n",
       "      <td>0</td>\n",
       "      <td>2</td>\n",
       "      <td>2008</td>\n",
       "      <td>WD</td>\n",
       "      <td>Normal</td>\n",
       "      <td>208500</td>\n",
       "    </tr>\n",
       "    <tr>\n",
       "      <th>1</th>\n",
       "      <td>2</td>\n",
       "      <td>20</td>\n",
       "      <td>RL</td>\n",
       "      <td>80.0</td>\n",
       "      <td>9600</td>\n",
       "      <td>Pave</td>\n",
       "      <td>NaN</td>\n",
       "      <td>Reg</td>\n",
       "      <td>Lvl</td>\n",
       "      <td>AllPub</td>\n",
       "      <td>...</td>\n",
       "      <td>0</td>\n",
       "      <td>NaN</td>\n",
       "      <td>NaN</td>\n",
       "      <td>NaN</td>\n",
       "      <td>0</td>\n",
       "      <td>5</td>\n",
       "      <td>2007</td>\n",
       "      <td>WD</td>\n",
       "      <td>Normal</td>\n",
       "      <td>181500</td>\n",
       "    </tr>\n",
       "    <tr>\n",
       "      <th>2</th>\n",
       "      <td>3</td>\n",
       "      <td>60</td>\n",
       "      <td>RL</td>\n",
       "      <td>68.0</td>\n",
       "      <td>11250</td>\n",
       "      <td>Pave</td>\n",
       "      <td>NaN</td>\n",
       "      <td>IR1</td>\n",
       "      <td>Lvl</td>\n",
       "      <td>AllPub</td>\n",
       "      <td>...</td>\n",
       "      <td>0</td>\n",
       "      <td>NaN</td>\n",
       "      <td>NaN</td>\n",
       "      <td>NaN</td>\n",
       "      <td>0</td>\n",
       "      <td>9</td>\n",
       "      <td>2008</td>\n",
       "      <td>WD</td>\n",
       "      <td>Normal</td>\n",
       "      <td>223500</td>\n",
       "    </tr>\n",
       "    <tr>\n",
       "      <th>3</th>\n",
       "      <td>4</td>\n",
       "      <td>70</td>\n",
       "      <td>RL</td>\n",
       "      <td>60.0</td>\n",
       "      <td>9550</td>\n",
       "      <td>Pave</td>\n",
       "      <td>NaN</td>\n",
       "      <td>IR1</td>\n",
       "      <td>Lvl</td>\n",
       "      <td>AllPub</td>\n",
       "      <td>...</td>\n",
       "      <td>0</td>\n",
       "      <td>NaN</td>\n",
       "      <td>NaN</td>\n",
       "      <td>NaN</td>\n",
       "      <td>0</td>\n",
       "      <td>2</td>\n",
       "      <td>2006</td>\n",
       "      <td>WD</td>\n",
       "      <td>Abnorml</td>\n",
       "      <td>140000</td>\n",
       "    </tr>\n",
       "    <tr>\n",
       "      <th>4</th>\n",
       "      <td>5</td>\n",
       "      <td>60</td>\n",
       "      <td>RL</td>\n",
       "      <td>84.0</td>\n",
       "      <td>14260</td>\n",
       "      <td>Pave</td>\n",
       "      <td>NaN</td>\n",
       "      <td>IR1</td>\n",
       "      <td>Lvl</td>\n",
       "      <td>AllPub</td>\n",
       "      <td>...</td>\n",
       "      <td>0</td>\n",
       "      <td>NaN</td>\n",
       "      <td>NaN</td>\n",
       "      <td>NaN</td>\n",
       "      <td>0</td>\n",
       "      <td>12</td>\n",
       "      <td>2008</td>\n",
       "      <td>WD</td>\n",
       "      <td>Normal</td>\n",
       "      <td>250000</td>\n",
       "    </tr>\n",
       "  </tbody>\n",
       "</table>\n",
       "<p>5 rows × 81 columns</p>\n",
       "</div>"
      ],
      "text/plain": [
       "   Id  MSSubClass MSZoning  LotFrontage  LotArea Street Alley LotShape  \\\n",
       "0   1          60       RL         65.0     8450   Pave   NaN      Reg   \n",
       "1   2          20       RL         80.0     9600   Pave   NaN      Reg   \n",
       "2   3          60       RL         68.0    11250   Pave   NaN      IR1   \n",
       "3   4          70       RL         60.0     9550   Pave   NaN      IR1   \n",
       "4   5          60       RL         84.0    14260   Pave   NaN      IR1   \n",
       "\n",
       "  LandContour Utilities  ... PoolArea PoolQC Fence MiscFeature MiscVal MoSold  \\\n",
       "0         Lvl    AllPub  ...        0    NaN   NaN         NaN       0      2   \n",
       "1         Lvl    AllPub  ...        0    NaN   NaN         NaN       0      5   \n",
       "2         Lvl    AllPub  ...        0    NaN   NaN         NaN       0      9   \n",
       "3         Lvl    AllPub  ...        0    NaN   NaN         NaN       0      2   \n",
       "4         Lvl    AllPub  ...        0    NaN   NaN         NaN       0     12   \n",
       "\n",
       "  YrSold  SaleType  SaleCondition  SalePrice  \n",
       "0   2008        WD         Normal     208500  \n",
       "1   2007        WD         Normal     181500  \n",
       "2   2008        WD         Normal     223500  \n",
       "3   2006        WD        Abnorml     140000  \n",
       "4   2008        WD         Normal     250000  \n",
       "\n",
       "[5 rows x 81 columns]"
      ]
     },
     "execution_count": 3,
     "metadata": {},
     "output_type": "execute_result"
    }
   ],
   "source": [
    "train_df.head()"
   ]
  },
  {
   "cell_type": "code",
   "execution_count": 4,
   "id": "4746d5ea",
   "metadata": {
    "execution": {
     "iopub.execute_input": "2024-11-13T11:00:00.264701Z",
     "iopub.status.busy": "2024-11-13T11:00:00.264025Z",
     "iopub.status.idle": "2024-11-13T11:00:00.294502Z",
     "shell.execute_reply": "2024-11-13T11:00:00.293158Z"
    },
    "papermill": {
     "duration": 0.04618,
     "end_time": "2024-11-13T11:00:00.297618",
     "exception": false,
     "start_time": "2024-11-13T11:00:00.251438",
     "status": "completed"
    },
    "tags": []
   },
   "outputs": [
    {
     "data": {
      "text/html": [
       "<div>\n",
       "<style scoped>\n",
       "    .dataframe tbody tr th:only-of-type {\n",
       "        vertical-align: middle;\n",
       "    }\n",
       "\n",
       "    .dataframe tbody tr th {\n",
       "        vertical-align: top;\n",
       "    }\n",
       "\n",
       "    .dataframe thead th {\n",
       "        text-align: right;\n",
       "    }\n",
       "</style>\n",
       "<table border=\"1\" class=\"dataframe\">\n",
       "  <thead>\n",
       "    <tr style=\"text-align: right;\">\n",
       "      <th></th>\n",
       "      <th>Id</th>\n",
       "      <th>MSSubClass</th>\n",
       "      <th>MSZoning</th>\n",
       "      <th>LotFrontage</th>\n",
       "      <th>LotArea</th>\n",
       "      <th>Street</th>\n",
       "      <th>Alley</th>\n",
       "      <th>LotShape</th>\n",
       "      <th>LandContour</th>\n",
       "      <th>Utilities</th>\n",
       "      <th>...</th>\n",
       "      <th>ScreenPorch</th>\n",
       "      <th>PoolArea</th>\n",
       "      <th>PoolQC</th>\n",
       "      <th>Fence</th>\n",
       "      <th>MiscFeature</th>\n",
       "      <th>MiscVal</th>\n",
       "      <th>MoSold</th>\n",
       "      <th>YrSold</th>\n",
       "      <th>SaleType</th>\n",
       "      <th>SaleCondition</th>\n",
       "    </tr>\n",
       "  </thead>\n",
       "  <tbody>\n",
       "    <tr>\n",
       "      <th>0</th>\n",
       "      <td>1461</td>\n",
       "      <td>20</td>\n",
       "      <td>RH</td>\n",
       "      <td>80.0</td>\n",
       "      <td>11622</td>\n",
       "      <td>Pave</td>\n",
       "      <td>NaN</td>\n",
       "      <td>Reg</td>\n",
       "      <td>Lvl</td>\n",
       "      <td>AllPub</td>\n",
       "      <td>...</td>\n",
       "      <td>120</td>\n",
       "      <td>0</td>\n",
       "      <td>NaN</td>\n",
       "      <td>MnPrv</td>\n",
       "      <td>NaN</td>\n",
       "      <td>0</td>\n",
       "      <td>6</td>\n",
       "      <td>2010</td>\n",
       "      <td>WD</td>\n",
       "      <td>Normal</td>\n",
       "    </tr>\n",
       "    <tr>\n",
       "      <th>1</th>\n",
       "      <td>1462</td>\n",
       "      <td>20</td>\n",
       "      <td>RL</td>\n",
       "      <td>81.0</td>\n",
       "      <td>14267</td>\n",
       "      <td>Pave</td>\n",
       "      <td>NaN</td>\n",
       "      <td>IR1</td>\n",
       "      <td>Lvl</td>\n",
       "      <td>AllPub</td>\n",
       "      <td>...</td>\n",
       "      <td>0</td>\n",
       "      <td>0</td>\n",
       "      <td>NaN</td>\n",
       "      <td>NaN</td>\n",
       "      <td>Gar2</td>\n",
       "      <td>12500</td>\n",
       "      <td>6</td>\n",
       "      <td>2010</td>\n",
       "      <td>WD</td>\n",
       "      <td>Normal</td>\n",
       "    </tr>\n",
       "    <tr>\n",
       "      <th>2</th>\n",
       "      <td>1463</td>\n",
       "      <td>60</td>\n",
       "      <td>RL</td>\n",
       "      <td>74.0</td>\n",
       "      <td>13830</td>\n",
       "      <td>Pave</td>\n",
       "      <td>NaN</td>\n",
       "      <td>IR1</td>\n",
       "      <td>Lvl</td>\n",
       "      <td>AllPub</td>\n",
       "      <td>...</td>\n",
       "      <td>0</td>\n",
       "      <td>0</td>\n",
       "      <td>NaN</td>\n",
       "      <td>MnPrv</td>\n",
       "      <td>NaN</td>\n",
       "      <td>0</td>\n",
       "      <td>3</td>\n",
       "      <td>2010</td>\n",
       "      <td>WD</td>\n",
       "      <td>Normal</td>\n",
       "    </tr>\n",
       "    <tr>\n",
       "      <th>3</th>\n",
       "      <td>1464</td>\n",
       "      <td>60</td>\n",
       "      <td>RL</td>\n",
       "      <td>78.0</td>\n",
       "      <td>9978</td>\n",
       "      <td>Pave</td>\n",
       "      <td>NaN</td>\n",
       "      <td>IR1</td>\n",
       "      <td>Lvl</td>\n",
       "      <td>AllPub</td>\n",
       "      <td>...</td>\n",
       "      <td>0</td>\n",
       "      <td>0</td>\n",
       "      <td>NaN</td>\n",
       "      <td>NaN</td>\n",
       "      <td>NaN</td>\n",
       "      <td>0</td>\n",
       "      <td>6</td>\n",
       "      <td>2010</td>\n",
       "      <td>WD</td>\n",
       "      <td>Normal</td>\n",
       "    </tr>\n",
       "    <tr>\n",
       "      <th>4</th>\n",
       "      <td>1465</td>\n",
       "      <td>120</td>\n",
       "      <td>RL</td>\n",
       "      <td>43.0</td>\n",
       "      <td>5005</td>\n",
       "      <td>Pave</td>\n",
       "      <td>NaN</td>\n",
       "      <td>IR1</td>\n",
       "      <td>HLS</td>\n",
       "      <td>AllPub</td>\n",
       "      <td>...</td>\n",
       "      <td>144</td>\n",
       "      <td>0</td>\n",
       "      <td>NaN</td>\n",
       "      <td>NaN</td>\n",
       "      <td>NaN</td>\n",
       "      <td>0</td>\n",
       "      <td>1</td>\n",
       "      <td>2010</td>\n",
       "      <td>WD</td>\n",
       "      <td>Normal</td>\n",
       "    </tr>\n",
       "  </tbody>\n",
       "</table>\n",
       "<p>5 rows × 80 columns</p>\n",
       "</div>"
      ],
      "text/plain": [
       "     Id  MSSubClass MSZoning  LotFrontage  LotArea Street Alley LotShape  \\\n",
       "0  1461          20       RH         80.0    11622   Pave   NaN      Reg   \n",
       "1  1462          20       RL         81.0    14267   Pave   NaN      IR1   \n",
       "2  1463          60       RL         74.0    13830   Pave   NaN      IR1   \n",
       "3  1464          60       RL         78.0     9978   Pave   NaN      IR1   \n",
       "4  1465         120       RL         43.0     5005   Pave   NaN      IR1   \n",
       "\n",
       "  LandContour Utilities  ... ScreenPorch PoolArea PoolQC  Fence MiscFeature  \\\n",
       "0         Lvl    AllPub  ...         120        0    NaN  MnPrv         NaN   \n",
       "1         Lvl    AllPub  ...           0        0    NaN    NaN        Gar2   \n",
       "2         Lvl    AllPub  ...           0        0    NaN  MnPrv         NaN   \n",
       "3         Lvl    AllPub  ...           0        0    NaN    NaN         NaN   \n",
       "4         HLS    AllPub  ...         144        0    NaN    NaN         NaN   \n",
       "\n",
       "  MiscVal MoSold  YrSold  SaleType  SaleCondition  \n",
       "0       0      6    2010        WD         Normal  \n",
       "1   12500      6    2010        WD         Normal  \n",
       "2       0      3    2010        WD         Normal  \n",
       "3       0      6    2010        WD         Normal  \n",
       "4       0      1    2010        WD         Normal  \n",
       "\n",
       "[5 rows x 80 columns]"
      ]
     },
     "execution_count": 4,
     "metadata": {},
     "output_type": "execute_result"
    }
   ],
   "source": [
    "test_df.head()"
   ]
  },
  {
   "cell_type": "code",
   "execution_count": 5,
   "id": "e1ec1e17",
   "metadata": {
    "execution": {
     "iopub.execute_input": "2024-11-13T11:00:00.322023Z",
     "iopub.status.busy": "2024-11-13T11:00:00.321320Z",
     "iopub.status.idle": "2024-11-13T11:00:00.331384Z",
     "shell.execute_reply": "2024-11-13T11:00:00.328959Z"
    },
    "papermill": {
     "duration": 0.026988,
     "end_time": "2024-11-13T11:00:00.336254",
     "exception": false,
     "start_time": "2024-11-13T11:00:00.309266",
     "status": "completed"
    },
    "tags": []
   },
   "outputs": [
    {
     "name": "stdout",
     "output_type": "stream",
     "text": [
      "Train_df: (1460, 81)\n",
      "Test_df: (1459, 80)\n"
     ]
    }
   ],
   "source": [
    "print(f\"Train_df: {train_df.shape}\")\n",
    "print(f\"Test_df: {test_df.shape}\")"
   ]
  },
  {
   "cell_type": "markdown",
   "id": "046388aa",
   "metadata": {
    "papermill": {
     "duration": 0.010595,
     "end_time": "2024-11-13T11:00:00.357770",
     "exception": false,
     "start_time": "2024-11-13T11:00:00.347175",
     "status": "completed"
    },
    "tags": []
   },
   "source": [
    "# Data Cleaning and Preprocessing"
   ]
  },
  {
   "cell_type": "code",
   "execution_count": 6,
   "id": "68f15467",
   "metadata": {
    "execution": {
     "iopub.execute_input": "2024-11-13T11:00:00.381715Z",
     "iopub.status.busy": "2024-11-13T11:00:00.381203Z",
     "iopub.status.idle": "2024-11-13T11:00:00.429827Z",
     "shell.execute_reply": "2024-11-13T11:00:00.427712Z"
    },
    "papermill": {
     "duration": 0.065167,
     "end_time": "2024-11-13T11:00:00.434066",
     "exception": false,
     "start_time": "2024-11-13T11:00:00.368899",
     "status": "completed"
    },
    "tags": []
   },
   "outputs": [
    {
     "name": "stdout",
     "output_type": "stream",
     "text": [
      "<class 'pandas.core.frame.DataFrame'>\n",
      "RangeIndex: 1460 entries, 0 to 1459\n",
      "Data columns (total 81 columns):\n",
      " #   Column         Non-Null Count  Dtype  \n",
      "---  ------         --------------  -----  \n",
      " 0   Id             1460 non-null   int64  \n",
      " 1   MSSubClass     1460 non-null   int64  \n",
      " 2   MSZoning       1460 non-null   object \n",
      " 3   LotFrontage    1201 non-null   float64\n",
      " 4   LotArea        1460 non-null   int64  \n",
      " 5   Street         1460 non-null   object \n",
      " 6   Alley          91 non-null     object \n",
      " 7   LotShape       1460 non-null   object \n",
      " 8   LandContour    1460 non-null   object \n",
      " 9   Utilities      1460 non-null   object \n",
      " 10  LotConfig      1460 non-null   object \n",
      " 11  LandSlope      1460 non-null   object \n",
      " 12  Neighborhood   1460 non-null   object \n",
      " 13  Condition1     1460 non-null   object \n",
      " 14  Condition2     1460 non-null   object \n",
      " 15  BldgType       1460 non-null   object \n",
      " 16  HouseStyle     1460 non-null   object \n",
      " 17  OverallQual    1460 non-null   int64  \n",
      " 18  OverallCond    1460 non-null   int64  \n",
      " 19  YearBuilt      1460 non-null   int64  \n",
      " 20  YearRemodAdd   1460 non-null   int64  \n",
      " 21  RoofStyle      1460 non-null   object \n",
      " 22  RoofMatl       1460 non-null   object \n",
      " 23  Exterior1st    1460 non-null   object \n",
      " 24  Exterior2nd    1460 non-null   object \n",
      " 25  MasVnrType     588 non-null    object \n",
      " 26  MasVnrArea     1452 non-null   float64\n",
      " 27  ExterQual      1460 non-null   object \n",
      " 28  ExterCond      1460 non-null   object \n",
      " 29  Foundation     1460 non-null   object \n",
      " 30  BsmtQual       1423 non-null   object \n",
      " 31  BsmtCond       1423 non-null   object \n",
      " 32  BsmtExposure   1422 non-null   object \n",
      " 33  BsmtFinType1   1423 non-null   object \n",
      " 34  BsmtFinSF1     1460 non-null   int64  \n",
      " 35  BsmtFinType2   1422 non-null   object \n",
      " 36  BsmtFinSF2     1460 non-null   int64  \n",
      " 37  BsmtUnfSF      1460 non-null   int64  \n",
      " 38  TotalBsmtSF    1460 non-null   int64  \n",
      " 39  Heating        1460 non-null   object \n",
      " 40  HeatingQC      1460 non-null   object \n",
      " 41  CentralAir     1460 non-null   object \n",
      " 42  Electrical     1459 non-null   object \n",
      " 43  1stFlrSF       1460 non-null   int64  \n",
      " 44  2ndFlrSF       1460 non-null   int64  \n",
      " 45  LowQualFinSF   1460 non-null   int64  \n",
      " 46  GrLivArea      1460 non-null   int64  \n",
      " 47  BsmtFullBath   1460 non-null   int64  \n",
      " 48  BsmtHalfBath   1460 non-null   int64  \n",
      " 49  FullBath       1460 non-null   int64  \n",
      " 50  HalfBath       1460 non-null   int64  \n",
      " 51  BedroomAbvGr   1460 non-null   int64  \n",
      " 52  KitchenAbvGr   1460 non-null   int64  \n",
      " 53  KitchenQual    1460 non-null   object \n",
      " 54  TotRmsAbvGrd   1460 non-null   int64  \n",
      " 55  Functional     1460 non-null   object \n",
      " 56  Fireplaces     1460 non-null   int64  \n",
      " 57  FireplaceQu    770 non-null    object \n",
      " 58  GarageType     1379 non-null   object \n",
      " 59  GarageYrBlt    1379 non-null   float64\n",
      " 60  GarageFinish   1379 non-null   object \n",
      " 61  GarageCars     1460 non-null   int64  \n",
      " 62  GarageArea     1460 non-null   int64  \n",
      " 63  GarageQual     1379 non-null   object \n",
      " 64  GarageCond     1379 non-null   object \n",
      " 65  PavedDrive     1460 non-null   object \n",
      " 66  WoodDeckSF     1460 non-null   int64  \n",
      " 67  OpenPorchSF    1460 non-null   int64  \n",
      " 68  EnclosedPorch  1460 non-null   int64  \n",
      " 69  3SsnPorch      1460 non-null   int64  \n",
      " 70  ScreenPorch    1460 non-null   int64  \n",
      " 71  PoolArea       1460 non-null   int64  \n",
      " 72  PoolQC         7 non-null      object \n",
      " 73  Fence          281 non-null    object \n",
      " 74  MiscFeature    54 non-null     object \n",
      " 75  MiscVal        1460 non-null   int64  \n",
      " 76  MoSold         1460 non-null   int64  \n",
      " 77  YrSold         1460 non-null   int64  \n",
      " 78  SaleType       1460 non-null   object \n",
      " 79  SaleCondition  1460 non-null   object \n",
      " 80  SalePrice      1460 non-null   int64  \n",
      "dtypes: float64(3), int64(35), object(43)\n",
      "memory usage: 924.0+ KB\n"
     ]
    }
   ],
   "source": [
    "train_df.info()"
   ]
  },
  {
   "cell_type": "code",
   "execution_count": 7,
   "id": "f127d4ac",
   "metadata": {
    "execution": {
     "iopub.execute_input": "2024-11-13T11:00:00.470929Z",
     "iopub.status.busy": "2024-11-13T11:00:00.470349Z",
     "iopub.status.idle": "2024-11-13T11:00:00.502221Z",
     "shell.execute_reply": "2024-11-13T11:00:00.499496Z"
    },
    "papermill": {
     "duration": 0.054125,
     "end_time": "2024-11-13T11:00:00.505818",
     "exception": false,
     "start_time": "2024-11-13T11:00:00.451693",
     "status": "completed"
    },
    "tags": []
   },
   "outputs": [
    {
     "name": "stdout",
     "output_type": "stream",
     "text": [
      "<class 'pandas.core.frame.DataFrame'>\n",
      "RangeIndex: 1459 entries, 0 to 1458\n",
      "Data columns (total 80 columns):\n",
      " #   Column         Non-Null Count  Dtype  \n",
      "---  ------         --------------  -----  \n",
      " 0   Id             1459 non-null   int64  \n",
      " 1   MSSubClass     1459 non-null   int64  \n",
      " 2   MSZoning       1455 non-null   object \n",
      " 3   LotFrontage    1232 non-null   float64\n",
      " 4   LotArea        1459 non-null   int64  \n",
      " 5   Street         1459 non-null   object \n",
      " 6   Alley          107 non-null    object \n",
      " 7   LotShape       1459 non-null   object \n",
      " 8   LandContour    1459 non-null   object \n",
      " 9   Utilities      1457 non-null   object \n",
      " 10  LotConfig      1459 non-null   object \n",
      " 11  LandSlope      1459 non-null   object \n",
      " 12  Neighborhood   1459 non-null   object \n",
      " 13  Condition1     1459 non-null   object \n",
      " 14  Condition2     1459 non-null   object \n",
      " 15  BldgType       1459 non-null   object \n",
      " 16  HouseStyle     1459 non-null   object \n",
      " 17  OverallQual    1459 non-null   int64  \n",
      " 18  OverallCond    1459 non-null   int64  \n",
      " 19  YearBuilt      1459 non-null   int64  \n",
      " 20  YearRemodAdd   1459 non-null   int64  \n",
      " 21  RoofStyle      1459 non-null   object \n",
      " 22  RoofMatl       1459 non-null   object \n",
      " 23  Exterior1st    1458 non-null   object \n",
      " 24  Exterior2nd    1458 non-null   object \n",
      " 25  MasVnrType     565 non-null    object \n",
      " 26  MasVnrArea     1444 non-null   float64\n",
      " 27  ExterQual      1459 non-null   object \n",
      " 28  ExterCond      1459 non-null   object \n",
      " 29  Foundation     1459 non-null   object \n",
      " 30  BsmtQual       1415 non-null   object \n",
      " 31  BsmtCond       1414 non-null   object \n",
      " 32  BsmtExposure   1415 non-null   object \n",
      " 33  BsmtFinType1   1417 non-null   object \n",
      " 34  BsmtFinSF1     1458 non-null   float64\n",
      " 35  BsmtFinType2   1417 non-null   object \n",
      " 36  BsmtFinSF2     1458 non-null   float64\n",
      " 37  BsmtUnfSF      1458 non-null   float64\n",
      " 38  TotalBsmtSF    1458 non-null   float64\n",
      " 39  Heating        1459 non-null   object \n",
      " 40  HeatingQC      1459 non-null   object \n",
      " 41  CentralAir     1459 non-null   object \n",
      " 42  Electrical     1459 non-null   object \n",
      " 43  1stFlrSF       1459 non-null   int64  \n",
      " 44  2ndFlrSF       1459 non-null   int64  \n",
      " 45  LowQualFinSF   1459 non-null   int64  \n",
      " 46  GrLivArea      1459 non-null   int64  \n",
      " 47  BsmtFullBath   1457 non-null   float64\n",
      " 48  BsmtHalfBath   1457 non-null   float64\n",
      " 49  FullBath       1459 non-null   int64  \n",
      " 50  HalfBath       1459 non-null   int64  \n",
      " 51  BedroomAbvGr   1459 non-null   int64  \n",
      " 52  KitchenAbvGr   1459 non-null   int64  \n",
      " 53  KitchenQual    1458 non-null   object \n",
      " 54  TotRmsAbvGrd   1459 non-null   int64  \n",
      " 55  Functional     1457 non-null   object \n",
      " 56  Fireplaces     1459 non-null   int64  \n",
      " 57  FireplaceQu    729 non-null    object \n",
      " 58  GarageType     1383 non-null   object \n",
      " 59  GarageYrBlt    1381 non-null   float64\n",
      " 60  GarageFinish   1381 non-null   object \n",
      " 61  GarageCars     1458 non-null   float64\n",
      " 62  GarageArea     1458 non-null   float64\n",
      " 63  GarageQual     1381 non-null   object \n",
      " 64  GarageCond     1381 non-null   object \n",
      " 65  PavedDrive     1459 non-null   object \n",
      " 66  WoodDeckSF     1459 non-null   int64  \n",
      " 67  OpenPorchSF    1459 non-null   int64  \n",
      " 68  EnclosedPorch  1459 non-null   int64  \n",
      " 69  3SsnPorch      1459 non-null   int64  \n",
      " 70  ScreenPorch    1459 non-null   int64  \n",
      " 71  PoolArea       1459 non-null   int64  \n",
      " 72  PoolQC         3 non-null      object \n",
      " 73  Fence          290 non-null    object \n",
      " 74  MiscFeature    51 non-null     object \n",
      " 75  MiscVal        1459 non-null   int64  \n",
      " 76  MoSold         1459 non-null   int64  \n",
      " 77  YrSold         1459 non-null   int64  \n",
      " 78  SaleType       1458 non-null   object \n",
      " 79  SaleCondition  1459 non-null   object \n",
      "dtypes: float64(11), int64(26), object(43)\n",
      "memory usage: 912.0+ KB\n"
     ]
    }
   ],
   "source": [
    "test_df.info()"
   ]
  },
  {
   "cell_type": "markdown",
   "id": "b5528115",
   "metadata": {
    "papermill": {
     "duration": 0.01242,
     "end_time": "2024-11-13T11:00:00.530536",
     "exception": false,
     "start_time": "2024-11-13T11:00:00.518116",
     "status": "completed"
    },
    "tags": []
   },
   "source": [
    "# Chack the Missing values"
   ]
  },
  {
   "cell_type": "code",
   "execution_count": 8,
   "id": "e9e1a4ac",
   "metadata": {
    "execution": {
     "iopub.execute_input": "2024-11-13T11:00:00.557544Z",
     "iopub.status.busy": "2024-11-13T11:00:00.557037Z",
     "iopub.status.idle": "2024-11-13T11:00:00.594657Z",
     "shell.execute_reply": "2024-11-13T11:00:00.592919Z"
    },
    "papermill": {
     "duration": 0.056558,
     "end_time": "2024-11-13T11:00:00.598848",
     "exception": false,
     "start_time": "2024-11-13T11:00:00.542290",
     "status": "completed"
    },
    "tags": []
   },
   "outputs": [
    {
     "name": "stdout",
     "output_type": "stream",
     "text": [
      "Id 0\n",
      "MSSubClass 0\n",
      "MSZoning 0\n",
      "LotFrontage 259\n",
      "LotArea 0\n",
      "Street 0\n",
      "Alley 1369\n",
      "LotShape 0\n",
      "LandContour 0\n",
      "Utilities 0\n",
      "LotConfig 0\n",
      "LandSlope 0\n",
      "Neighborhood 0\n",
      "Condition1 0\n",
      "Condition2 0\n",
      "BldgType 0\n",
      "HouseStyle 0\n",
      "OverallQual 0\n",
      "OverallCond 0\n",
      "YearBuilt 0\n",
      "YearRemodAdd 0\n",
      "RoofStyle 0\n",
      "RoofMatl 0\n",
      "Exterior1st 0\n",
      "Exterior2nd 0\n",
      "MasVnrType 872\n",
      "MasVnrArea 8\n",
      "ExterQual 0\n",
      "ExterCond 0\n",
      "Foundation 0\n",
      "BsmtQual 37\n",
      "BsmtCond 37\n",
      "BsmtExposure 38\n",
      "BsmtFinType1 37\n",
      "BsmtFinSF1 0\n",
      "BsmtFinType2 38\n",
      "BsmtFinSF2 0\n",
      "BsmtUnfSF 0\n",
      "TotalBsmtSF 0\n",
      "Heating 0\n",
      "HeatingQC 0\n",
      "CentralAir 0\n",
      "Electrical 1\n",
      "1stFlrSF 0\n",
      "2ndFlrSF 0\n",
      "LowQualFinSF 0\n",
      "GrLivArea 0\n",
      "BsmtFullBath 0\n",
      "BsmtHalfBath 0\n",
      "FullBath 0\n",
      "HalfBath 0\n",
      "BedroomAbvGr 0\n",
      "KitchenAbvGr 0\n",
      "KitchenQual 0\n",
      "TotRmsAbvGrd 0\n",
      "Functional 0\n",
      "Fireplaces 0\n",
      "FireplaceQu 690\n",
      "GarageType 81\n",
      "GarageYrBlt 81\n",
      "GarageFinish 81\n",
      "GarageCars 0\n",
      "GarageArea 0\n",
      "GarageQual 81\n",
      "GarageCond 81\n",
      "PavedDrive 0\n",
      "WoodDeckSF 0\n",
      "OpenPorchSF 0\n",
      "EnclosedPorch 0\n",
      "3SsnPorch 0\n",
      "ScreenPorch 0\n",
      "PoolArea 0\n",
      "PoolQC 1453\n",
      "Fence 1179\n",
      "MiscFeature 1406\n",
      "MiscVal 0\n",
      "MoSold 0\n",
      "YrSold 0\n",
      "SaleType 0\n",
      "SaleCondition 0\n",
      "SalePrice 0\n"
     ]
    }
   ],
   "source": [
    "for col in train_df:\n",
    "    print(col,train_df[col].isnull().sum())\n",
    "   "
   ]
  },
  {
   "cell_type": "code",
   "execution_count": 9,
   "id": "f60ea308",
   "metadata": {
    "execution": {
     "iopub.execute_input": "2024-11-13T11:00:00.625559Z",
     "iopub.status.busy": "2024-11-13T11:00:00.625107Z",
     "iopub.status.idle": "2024-11-13T11:00:00.663547Z",
     "shell.execute_reply": "2024-11-13T11:00:00.661559Z"
    },
    "papermill": {
     "duration": 0.056879,
     "end_time": "2024-11-13T11:00:00.668041",
     "exception": false,
     "start_time": "2024-11-13T11:00:00.611162",
     "status": "completed"
    },
    "tags": []
   },
   "outputs": [
    {
     "name": "stdout",
     "output_type": "stream",
     "text": [
      "Id 0\n",
      "MSSubClass 0\n",
      "MSZoning 0\n",
      "LotFrontage 259\n",
      "LotArea 0\n",
      "Street 0\n",
      "Alley 1369\n",
      "LotShape 0\n",
      "LandContour 0\n",
      "Utilities 0\n",
      "LotConfig 0\n",
      "LandSlope 0\n",
      "Neighborhood 0\n",
      "Condition1 0\n",
      "Condition2 0\n",
      "BldgType 0\n",
      "HouseStyle 0\n",
      "OverallQual 0\n",
      "OverallCond 0\n",
      "YearBuilt 0\n",
      "YearRemodAdd 0\n",
      "RoofStyle 0\n",
      "RoofMatl 0\n",
      "Exterior1st 0\n",
      "Exterior2nd 0\n",
      "MasVnrType 872\n",
      "MasVnrArea 8\n",
      "ExterQual 0\n",
      "ExterCond 0\n",
      "Foundation 0\n",
      "BsmtQual 37\n",
      "BsmtCond 37\n",
      "BsmtExposure 38\n",
      "BsmtFinType1 37\n",
      "BsmtFinSF1 0\n",
      "BsmtFinType2 38\n",
      "BsmtFinSF2 0\n",
      "BsmtUnfSF 0\n",
      "TotalBsmtSF 0\n",
      "Heating 0\n",
      "HeatingQC 0\n",
      "CentralAir 0\n",
      "Electrical 1\n",
      "1stFlrSF 0\n",
      "2ndFlrSF 0\n",
      "LowQualFinSF 0\n",
      "GrLivArea 0\n",
      "BsmtFullBath 0\n",
      "BsmtHalfBath 0\n",
      "FullBath 0\n",
      "HalfBath 0\n",
      "BedroomAbvGr 0\n",
      "KitchenAbvGr 0\n",
      "KitchenQual 0\n",
      "TotRmsAbvGrd 0\n",
      "Functional 0\n",
      "Fireplaces 0\n",
      "FireplaceQu 690\n",
      "GarageType 81\n",
      "GarageYrBlt 81\n",
      "GarageFinish 81\n",
      "GarageCars 0\n",
      "GarageArea 0\n",
      "GarageQual 81\n",
      "GarageCond 81\n",
      "PavedDrive 0\n",
      "WoodDeckSF 0\n",
      "OpenPorchSF 0\n",
      "EnclosedPorch 0\n",
      "3SsnPorch 0\n",
      "ScreenPorch 0\n",
      "PoolArea 0\n",
      "PoolQC 1453\n",
      "Fence 1179\n",
      "MiscFeature 1406\n",
      "MiscVal 0\n",
      "MoSold 0\n",
      "YrSold 0\n",
      "SaleType 0\n",
      "SaleCondition 0\n"
     ]
    }
   ],
   "source": [
    "for col in test_df:\n",
    "    print(col,train_df[col].isnull().sum()) "
   ]
  },
  {
   "cell_type": "markdown",
   "id": "906eb308",
   "metadata": {
    "papermill": {
     "duration": 0.011437,
     "end_time": "2024-11-13T11:00:00.691507",
     "exception": false,
     "start_time": "2024-11-13T11:00:00.680070",
     "status": "completed"
    },
    "tags": []
   },
   "source": [
    "> Handling Missing Values: Missing values are handled differently for numerical and categorical columns:\n",
    "\n",
    "> Numerical columns are imputed using the median, which is less affected by outliers than the mean."
   ]
  },
  {
   "cell_type": "markdown",
   "id": "0912d4cc",
   "metadata": {
    "papermill": {
     "duration": 0.013045,
     "end_time": "2024-11-13T11:00:00.717931",
     "exception": false,
     "start_time": "2024-11-13T11:00:00.704886",
     "status": "completed"
    },
    "tags": []
   },
   "source": [
    "> Categorical columns are imputed using the most frequent category to maintain consistency in categorical data"
   ]
  },
  {
   "cell_type": "code",
   "execution_count": 10,
   "id": "e86f9518",
   "metadata": {
    "execution": {
     "iopub.execute_input": "2024-11-13T11:00:00.745125Z",
     "iopub.status.busy": "2024-11-13T11:00:00.743472Z",
     "iopub.status.idle": "2024-11-13T11:00:00.854029Z",
     "shell.execute_reply": "2024-11-13T11:00:00.852185Z"
    },
    "papermill": {
     "duration": 0.128185,
     "end_time": "2024-11-13T11:00:00.858277",
     "exception": false,
     "start_time": "2024-11-13T11:00:00.730092",
     "status": "completed"
    },
    "tags": []
   },
   "outputs": [],
   "source": [
    "# Select numerical and categorical columns\n",
    "numerical_cols_train = train_df.select_dtypes(include=[\"int64\", \"float64\"]).columns\n",
    "categorical_cols_train = train_df.select_dtypes(include=[\"object\"]).columns\n",
    "\n",
    "numerical_cols_test = test_df.select_dtypes(include=[\"int64\", \"float64\"]).columns\n",
    "categorical_cols_test = test_df.select_dtypes(include=[\"object\"]).columns\n",
    "\n",
    "# Impute numerical columns in the training set with median strategy\n",
    "imputer_median_train = SimpleImputer(strategy=\"median\")\n",
    "train_df[numerical_cols_train] = imputer_median_train.fit_transform(train_df[numerical_cols_train])\n",
    "\n",
    "# Impute numerical columns in the test set with median strategy\n",
    "imputer_median_test = SimpleImputer(strategy=\"median\")\n",
    "test_df[numerical_cols_test] = imputer_median_test.fit_transform(test_df[numerical_cols_test])\n",
    "\n",
    "# Impute categorical columns in the training set with most frequent strategy\n",
    "imputer_most_train = SimpleImputer(strategy=\"most_frequent\")\n",
    "train_df[categorical_cols_train] = imputer_most_train.fit_transform(train_df[categorical_cols_train])\n",
    "\n",
    "# Impute categorical columns in the test set with most frequent strategy\n",
    "imputer_most_test = SimpleImputer(strategy=\"most_frequent\")\n",
    "test_df[categorical_cols_test] = imputer_most_test.fit_transform(test_df[categorical_cols_test])\n",
    "\n",
    "\n",
    "\n"
   ]
  },
  {
   "cell_type": "markdown",
   "id": "1870d528",
   "metadata": {
    "papermill": {
     "duration": 0.011908,
     "end_time": "2024-11-13T11:00:00.883078",
     "exception": false,
     "start_time": "2024-11-13T11:00:00.871170",
     "status": "completed"
    },
    "tags": []
   },
   "source": [
    "# NO Missing Values"
   ]
  },
  {
   "cell_type": "code",
   "execution_count": 11,
   "id": "52a10b11",
   "metadata": {
    "execution": {
     "iopub.execute_input": "2024-11-13T11:00:00.910113Z",
     "iopub.status.busy": "2024-11-13T11:00:00.909551Z",
     "iopub.status.idle": "2024-11-13T11:00:00.952017Z",
     "shell.execute_reply": "2024-11-13T11:00:00.950318Z"
    },
    "papermill": {
     "duration": 0.062319,
     "end_time": "2024-11-13T11:00:00.957258",
     "exception": false,
     "start_time": "2024-11-13T11:00:00.894939",
     "status": "completed"
    },
    "tags": []
   },
   "outputs": [
    {
     "name": "stdout",
     "output_type": "stream",
     "text": [
      "Train_df No missing values: \n",
      " Id               0\n",
      "MSSubClass       0\n",
      "MSZoning         0\n",
      "LotFrontage      0\n",
      "LotArea          0\n",
      "                ..\n",
      "MoSold           0\n",
      "YrSold           0\n",
      "SaleType         0\n",
      "SaleCondition    0\n",
      "SalePrice        0\n",
      "Length: 81, dtype: int64\n",
      "////////////////////////\n",
      "Test_df No missing values: \n",
      " Id               0\n",
      "MSSubClass       0\n",
      "MSZoning         0\n",
      "LotFrontage      0\n",
      "LotArea          0\n",
      "                ..\n",
      "MiscVal          0\n",
      "MoSold           0\n",
      "YrSold           0\n",
      "SaleType         0\n",
      "SaleCondition    0\n",
      "Length: 80, dtype: int64\n"
     ]
    }
   ],
   "source": [
    "\n",
    "print(\"Train_df No missing values: \\n\", train_df.isnull().sum())\n",
    "\n",
    "print(\"////////////////////////\")\n",
    "\n",
    "print(\"Test_df No missing values: \\n\",test_df.isnull().sum())"
   ]
  },
  {
   "cell_type": "code",
   "execution_count": 12,
   "id": "48f5b0e8",
   "metadata": {
    "execution": {
     "iopub.execute_input": "2024-11-13T11:00:00.998312Z",
     "iopub.status.busy": "2024-11-13T11:00:00.996459Z",
     "iopub.status.idle": "2024-11-13T11:00:01.675278Z",
     "shell.execute_reply": "2024-11-13T11:00:01.673660Z"
    },
    "papermill": {
     "duration": 0.702354,
     "end_time": "2024-11-13T11:00:01.678895",
     "exception": false,
     "start_time": "2024-11-13T11:00:00.976541",
     "status": "completed"
    },
    "tags": []
   },
   "outputs": [
    {
     "data": {
      "image/png": "[encoded data removed]",
      "text/plain": [
       "<Figure size 640x480 with 1 Axes>"
      ]
     },
     "metadata": {},
     "output_type": "display_data"
    }
   ],
   "source": [
    "sns.histplot(x=\"SalePrice\",kde=True,color = \"r\",data = train_df)\n",
    "plt.show()"
   ]
  },
  {
   "cell_type": "code",
   "execution_count": 13,
   "id": "d7d14c1d",
   "metadata": {
    "execution": {
     "iopub.execute_input": "2024-11-13T11:00:01.720451Z",
     "iopub.status.busy": "2024-11-13T11:00:01.719429Z",
     "iopub.status.idle": "2024-11-13T11:00:01.731392Z",
     "shell.execute_reply": "2024-11-13T11:00:01.729659Z"
    },
    "papermill": {
     "duration": 0.035112,
     "end_time": "2024-11-13T11:00:01.735083",
     "exception": false,
     "start_time": "2024-11-13T11:00:01.699971",
     "status": "completed"
    },
    "tags": []
   },
   "outputs": [
    {
     "data": {
      "text/plain": [
       "Index(['Id', 'MSSubClass', 'MSZoning', 'LotFrontage', 'LotArea', 'Street',\n",
       "       'Alley', 'LotShape', 'LandContour', 'Utilities', 'LotConfig',\n",
       "       'LandSlope', 'Neighborhood', 'Condition1', 'Condition2', 'BldgType',\n",
       "       'HouseStyle', 'OverallQual', 'OverallCond', 'YearBuilt', 'YearRemodAdd',\n",
       "       'RoofStyle', 'RoofMatl', 'Exterior1st', 'Exterior2nd', 'MasVnrType',\n",
       "       'MasVnrArea', 'ExterQual', 'ExterCond', 'Foundation', 'BsmtQual',\n",
       "       'BsmtCond', 'BsmtExposure', 'BsmtFinType1', 'BsmtFinSF1',\n",
       "       'BsmtFinType2', 'BsmtFinSF2', 'BsmtUnfSF', 'TotalBsmtSF', 'Heating',\n",
       "       'HeatingQC', 'CentralAir', 'Electrical', '1stFlrSF', '2ndFlrSF',\n",
       "       'LowQualFinSF', 'GrLivArea', 'BsmtFullBath', 'BsmtHalfBath', 'FullBath',\n",
       "       'HalfBath', 'BedroomAbvGr', 'KitchenAbvGr', 'KitchenQual',\n",
       "       'TotRmsAbvGrd', 'Functional', 'Fireplaces', 'FireplaceQu', 'GarageType',\n",
       "       'GarageYrBlt', 'GarageFinish', 'GarageCars', 'GarageArea', 'GarageQual',\n",
       "       'GarageCond', 'PavedDrive', 'WoodDeckSF', 'OpenPorchSF',\n",
       "       'EnclosedPorch', '3SsnPorch', 'ScreenPorch', 'PoolArea', 'PoolQC',\n",
       "       'Fence', 'MiscFeature', 'MiscVal', 'MoSold', 'YrSold', 'SaleType',\n",
       "       'SaleCondition', 'SalePrice'],\n",
       "      dtype='object')"
      ]
     },
     "execution_count": 13,
     "metadata": {},
     "output_type": "execute_result"
    }
   ],
   "source": [
    "train_df.columns"
   ]
  },
  {
   "cell_type": "markdown",
   "id": "ea41b20c",
   "metadata": {
    "papermill": {
     "duration": 0.012057,
     "end_time": "2024-11-13T11:00:01.762249",
     "exception": false,
     "start_time": "2024-11-13T11:00:01.750192",
     "status": "completed"
    },
    "tags": []
   },
   "source": [
    " # Dropping Irrelevant Columns:\n",
    "> Columns like Alley, PoolQC, Fence, and MiscFeature are dropped from both datasets, as these might have too many missing values or be irrelevant for house price prediction"
   ]
  },
  {
   "cell_type": "code",
   "execution_count": 14,
   "id": "ab4567fc",
   "metadata": {
    "execution": {
     "iopub.execute_input": "2024-11-13T11:00:01.790859Z",
     "iopub.status.busy": "2024-11-13T11:00:01.789823Z",
     "iopub.status.idle": "2024-11-13T11:00:01.809897Z",
     "shell.execute_reply": "2024-11-13T11:00:01.807485Z"
    },
    "papermill": {
     "duration": 0.040495,
     "end_time": "2024-11-13T11:00:01.814369",
     "exception": false,
     "start_time": "2024-11-13T11:00:01.773874",
     "status": "completed"
    },
    "tags": []
   },
   "outputs": [],
   "source": [
    "train_df.drop(columns=[\"Alley\",\"PoolQC\",\"Fence\",\"MiscFeature\"],inplace = True)\n",
    "test_df.drop(columns=[\"Alley\",\"PoolQC\",\"Fence\",\"MiscFeature\"],inplace = True)"
   ]
  },
  {
   "cell_type": "markdown",
   "id": "3725de23",
   "metadata": {
    "papermill": {
     "duration": 0.012423,
     "end_time": "2024-11-13T11:00:01.839989",
     "exception": false,
     "start_time": "2024-11-13T11:00:01.827566",
     "status": "completed"
    },
    "tags": []
   },
   "source": [
    "# Label Encoding Categorical Columns:\n",
    "Label encoding is applied to categorical columns to convert string-based data into numeric format, making it compatible with machine learning models. Here, each unique category is converted to a unique integer. This encoding is applied separately to the training and test datasets to avoid data leakage."
   ]
  },
  {
   "cell_type": "code",
   "execution_count": 15,
   "id": "e4964131",
   "metadata": {
    "execution": {
     "iopub.execute_input": "2024-11-13T11:00:01.867717Z",
     "iopub.status.busy": "2024-11-13T11:00:01.867218Z",
     "iopub.status.idle": "2024-11-13T11:00:01.907304Z",
     "shell.execute_reply": "2024-11-13T11:00:01.905724Z"
    },
    "papermill": {
     "duration": 0.057673,
     "end_time": "2024-11-13T11:00:01.910688",
     "exception": false,
     "start_time": "2024-11-13T11:00:01.853015",
     "status": "completed"
    },
    "tags": []
   },
   "outputs": [],
   "source": [
    "for i in train_df.select_dtypes(include=\"object\").columns:\n",
    "    label_en = LabelEncoder()\n",
    "    train_df[i] = label_en.fit_transform(train_df[i])"
   ]
  },
  {
   "cell_type": "code",
   "execution_count": 16,
   "id": "aa71e558",
   "metadata": {
    "execution": {
     "iopub.execute_input": "2024-11-13T11:00:01.940012Z",
     "iopub.status.busy": "2024-11-13T11:00:01.939519Z",
     "iopub.status.idle": "2024-11-13T11:00:02.139166Z",
     "shell.execute_reply": "2024-11-13T11:00:02.137709Z"
    },
    "papermill": {
     "duration": 0.220061,
     "end_time": "2024-11-13T11:00:02.143254",
     "exception": false,
     "start_time": "2024-11-13T11:00:01.923193",
     "status": "completed"
    },
    "tags": []
   },
   "outputs": [],
   "source": [
    "from sklearn.linear_model import LinearRegression\n",
    "from sklearn.metrics import mean_squared_error , mean_absolute_error\n",
    "from sklearn.linear_model import LinearRegression,Lasso, Ridge,ElasticNet\n",
    "from sklearn.tree import DecisionTreeRegressor\n",
    "from sklearn.svm import SVR\n",
    "from sklearn.neighbors import KNeighborsRegressor\n",
    "from sklearn.ensemble import RandomForestRegressor"
   ]
  },
  {
   "cell_type": "markdown",
   "id": "4aa01f4f",
   "metadata": {
    "papermill": {
     "duration": 0.012085,
     "end_time": "2024-11-13T11:00:02.168878",
     "exception": false,
     "start_time": "2024-11-13T11:00:02.156793",
     "status": "completed"
    },
    "tags": []
   },
   "source": [
    "# Splitting Data for Training and Testing:\n",
    " > The data is split into training and testing sets using an 80-20 split. SalePrice is defined as the target variable (y), and the remaining features make up the predictor variables (X). This ensures that the model is trained on a subset of data and tested on unseen data to evaluate its performance."
   ]
  },
  {
   "cell_type": "markdown",
   "id": "0c471301",
   "metadata": {
    "papermill": {
     "duration": 0.01476,
     "end_time": "2024-11-13T11:00:02.196960",
     "exception": false,
     "start_time": "2024-11-13T11:00:02.182200",
     "status": "completed"
    },
    "tags": []
   },
   "source": [
    "# Model Training:\n",
    "> A RandomForestRegressor model is instantiated and trained on the x_train and y_train datasets. This model is well-suited for structured data and can capture complex relationships without requiring feature scaling\r\n"
   ]
  },
  {
   "cell_type": "markdown",
   "id": "c751871f",
   "metadata": {
    "papermill": {
     "duration": 0.014271,
     "end_time": "2024-11-13T11:00:02.224622",
     "exception": false,
     "start_time": "2024-11-13T11:00:02.210351",
     "status": "completed"
    },
    "tags": []
   },
   "source": []
  },
  {
   "cell_type": "code",
   "execution_count": 17,
   "id": "f37a69b4",
   "metadata": {
    "execution": {
     "iopub.execute_input": "2024-11-13T11:00:02.256802Z",
     "iopub.status.busy": "2024-11-13T11:00:02.256296Z",
     "iopub.status.idle": "2024-11-13T11:00:04.178545Z",
     "shell.execute_reply": "2024-11-13T11:00:04.177082Z"
    },
    "papermill": {
     "duration": 1.940637,
     "end_time": "2024-11-13T11:00:04.181716",
     "exception": false,
     "start_time": "2024-11-13T11:00:02.241079",
     "status": "completed"
    },
    "tags": []
   },
   "outputs": [
    {
     "name": "stdout",
     "output_type": "stream",
     "text": [
      "Train Score: 97.33538977061414\n",
      "Test Score: 89.28353357901564\n",
      "Predictions saved to submission.csv\n"
     ]
    }
   ],
   "source": [
    "# Define features and target\n",
    "X = train_df.drop(columns=['SalePrice'])\n",
    "y = train_df['SalePrice']\n",
    "\n",
    "# Split data\n",
    "x_train, x_test, y_train, y_test = train_test_split(X, y, test_size=0.2, shuffle=True, random_state=15)\n",
    "\n",
    "# Train the model\n",
    "random = RandomForestRegressor(n_estimators=100, max_depth=10, random_state=42)\n",
    "random.fit(x_train, y_train)\n",
    "\n",
    "# Evaluate the model\n",
    "train_score = random.score(x_train, y_train) * 100\n",
    "test_score = random.score(x_test, y_test) * 100\n",
    "print(f\"Train Score: {train_score}\")\n",
    "print(f\"Test Score: {test_score}\")\n",
    "\n",
    "# Predictions and save to CSV\n",
    "test_preds = random.predict(x_test)\n",
    "output = pd.DataFrame({'Id': x_test.index, 'SalePrice': test_preds})\n",
    "output.to_csv('submission_1.csv', index=False)\n",
    "print(\"Predictions saved to submission.csv\")\n"
   ]
  },
  {
   "cell_type": "code",
   "execution_count": 18,
   "id": "8176d9f0",
   "metadata": {
    "execution": {
     "iopub.execute_input": "2024-11-13T11:00:04.212860Z",
     "iopub.status.busy": "2024-11-13T11:00:04.211987Z",
     "iopub.status.idle": "2024-11-13T11:00:05.251414Z",
     "shell.execute_reply": "2024-11-13T11:00:05.249269Z"
    },
    "papermill": {
     "duration": 1.062249,
     "end_time": "2024-11-13T11:00:05.258051",
     "exception": false,
     "start_time": "2024-11-13T11:00:04.195802",
     "status": "completed"
    },
    "tags": []
   },
   "outputs": [
    {
     "data": {
      "image/png": "[encoded data removed]",
      "text/plain": [
       "<Figure size 1400x600 with 2 Axes>"
      ]
     },
     "metadata": {},
     "output_type": "display_data"
    }
   ],
   "source": [
    "\n",
    "# Predicting values for train and test sets\n",
    "y_train_pred = random.predict(x_train)\n",
    "y_test_pred = random.predict(x_test)\n",
    "\n",
    "# Plotting the results\n",
    "plt.figure(figsize=(14, 6))\n",
    "\n",
    "# Training set plot\n",
    "plt.subplot(1, 2, 1)\n",
    "plt.scatter(y_train, y_train_pred, color=\"blue\", edgecolor=\"k\", alpha=0.6, label=\"Predictions\")\n",
    "plt.plot([y_train.min(), y_train.max()], [y_train.min(), y_train.max()], 'r--', lw=2)\n",
    "plt.xlabel(\"Actual Values\")\n",
    "plt.ylabel(\"Predicted Values\")\n",
    "plt.title(\"Training Set: Actual vs Predicted\")\n",
    "plt.legend()\n",
    "\n",
    "# Test set plot\n",
    "plt.subplot(1, 2, 2)\n",
    "plt.scatter(y_test, y_test_pred, color=\"green\", edgecolor=\"k\", alpha=0.6, label=\"Predictions\")\n",
    "plt.plot([y_test.min(), y_test.max()], [y_test.min(), y_test.max()], 'r--', lw=2)\n",
    "plt.xlabel(\"Actual Values\")\n",
    "plt.ylabel(\"Predicted Values\")\n",
    "plt.title(\"Test Set: Actual vs Predicted\")\n",
    "plt.legend()\n",
    "\n",
    "plt.tight_layout()\n",
    "plt.show()\n"
   ]
  }
 ],
 "metadata": {
  "kaggle": {
   "accelerator": "none",
   "dataSources": [
    {
     "databundleVersionId": 868283,
     "sourceId": 5407,
     "sourceType": "competition"
    }
   ],
   "dockerImageVersionId": 30786,
   "isGpuEnabled": false,
   "isInternetEnabled": true,
   "language": "python",
   "sourceType": "notebook"
  },
  "kernelspec": {
   "display_name": "Python 3",
   "language": "python",
   "name": "python3"
  },
  "language_info": {
   "codemirror_mode": {
    "name": "ipython",
    "version": 3
   },
   "file_extension": ".py",
   "mimetype": "text/x-python",
   "name": "python",
   "nbconvert_exporter": "python",
   "pygments_lexer": "ipython3",
   "version": "3.10.14"
  },
  "papermill": {
   "default_parameters": {},
   "duration": 13.56316,
   "end_time": "2024-11-13T11:00:06.105637",
   "environment_variables": {},
   "exception": null,
   "input_path": "__notebook__.ipynb",
   "output_path": "__notebook__.ipynb",
   "parameters": {},
   "start_time": "2024-11-13T10:59:52.542477",
   "version": "2.6.0"
  }
 },
 "nbformat": 4,
 "nbformat_minor": 5
}
